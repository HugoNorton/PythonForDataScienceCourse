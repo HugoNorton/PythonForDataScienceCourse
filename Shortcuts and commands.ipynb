{
 "cells": [
  {
   "cell_type": "markdown",
   "metadata": {},
   "source": [
    "List of commands and shortcuts"
   ]
  },
  {
   "cell_type": "markdown",
   "metadata": {},
   "source": [
    "# Shortcuts and Jupyter Specific "
   ]
  },
  {
   "cell_type": "markdown",
   "metadata": {},
   "source": [
    "shift enter - run and go down to next cell"
   ]
  },
  {
   "cell_type": "markdown",
   "metadata": {},
   "source": [
    "alt enter - run and insert new cell below"
   ]
  },
  {
   "cell_type": "markdown",
   "metadata": {},
   "source": [
    "you can go to the kernel and restart or interrupt"
   ]
  },
  {
   "cell_type": "markdown",
   "metadata": {},
   "source": [
    "esc - m to make cell markdown, then enter to start typing in it. change back to code with esc - y and enter again"
   ]
  },
  {
   "cell_type": "markdown",
   "metadata": {},
   "source": [
    "esc dd to delete the cell"
   ]
  },
  {
   "cell_type": "markdown",
   "metadata": {},
   "source": [
    "need to escape some characters like \\* in markdown with \\\\"
   ]
  },
  {
   "cell_type": "markdown",
   "metadata": {},
   "source": [
    "use shift+tab at the end of a function name to see the docstring etc."
   ]
  },
  {
   "cell_type": "markdown",
   "metadata": {},
   "source": [
    "tab at the end of a list or whatever to see what methods are available to you"
   ]
  },
  {
   "cell_type": "markdown",
   "metadata": {},
   "source": [
    "# General Python\n",
    "\n",
    "#### Numbers"
   ]
  },
  {
   "cell_type": "markdown",
   "metadata": {},
   "source": [
    "+-\\*/ all as normal, % is remainder after mod, \\** is exponent"
   ]
  },
  {
   "cell_type": "markdown",
   "metadata": {},
   "source": [
    "#### Variables"
   ]
  },
  {
   "cell_type": "markdown",
   "metadata": {},
   "source": [
    "variables assigned by ="
   ]
  },
  {
   "cell_type": "markdown",
   "metadata": {},
   "source": [
    "cant start with number or special symbol"
   ]
  },
  {
   "cell_type": "markdown",
   "metadata": {},
   "source": [
    "use underscore to separate names"
   ]
  },
  {
   "cell_type": "markdown",
   "metadata": {},
   "source": [
    "#### String"
   ]
  },
  {
   "cell_type": "markdown",
   "metadata": {},
   "source": [
    "use double or single quotes to denote strings"
   ]
  },
  {
   "cell_type": "markdown",
   "metadata": {},
   "source": [
    "use print to print the strings. "
   ]
  },
  {
   "cell_type": "markdown",
   "metadata": {},
   "source": [
    "use curly brackets to add print statements using .format() - any variable can be pased in using curly brackets {}"
   ]
  },
  {
   "cell_type": "code",
   "execution_count": 3,
   "metadata": {},
   "outputs": [
    {
     "name": "stdout",
     "output_type": "stream",
     "text": [
      "My number is: 12, and my name is: Sam\n"
     ]
    }
   ],
   "source": [
    "num = 12\n",
    "name ='Sam'\n",
    "print('My number is: {one}, and my name is: {two}'.format(one=num,two=name))"
   ]
  },
  {
   "cell_type": "markdown",
   "metadata": {},
   "source": [
    "#### Lists\n"
   ]
  },
  {
   "cell_type": "markdown",
   "metadata": {},
   "source": [
    "lists look like my_list = ['1','2','3']\n",
    "\n",
    "append using .append() function\n",
    "\n",
    "reassing using slice notations or whatever\n",
    "\n",
    "can nest lists and things. can use slice notation to get parts of nested lists"
   ]
  },
  {
   "cell_type": "markdown",
   "metadata": {},
   "source": [
    "#### Tuples"
   ]
  },
  {
   "cell_type": "markdown",
   "metadata": {},
   "source": [
    "tuples use () rather than []"
   ]
  },
  {
   "cell_type": "markdown",
   "metadata": {},
   "source": [
    "Tuples are immutable (cant be reassigned) can't be mutated"
   ]
  },
  {
   "cell_type": "markdown",
   "metadata": {},
   "source": [
    "#### Sets"
   ]
  },
  {
   "cell_type": "markdown",
   "metadata": {},
   "source": [
    "use {} , only retuns unique instances. Collection of unique elements"
   ]
  },
  {
   "cell_type": "markdown",
   "metadata": {},
   "source": [
    "#### Operators"
   ]
  },
  {
   "cell_type": "markdown",
   "metadata": {},
   "source": [
    "use <, >, ==, !="
   ]
  },
  {
   "cell_type": "markdown",
   "metadata": {},
   "source": [
    "can use 'and' and 'or'. Use () to make things more readable"
   ]
  },
  {
   "cell_type": "markdown",
   "metadata": {},
   "source": [
    "#### If elif else"
   ]
  },
  {
   "cell_type": "markdown",
   "metadata": {},
   "source": [
    "use : after the if statment or elif or else statements"
   ]
  },
  {
   "cell_type": "code",
   "execution_count": 4,
   "metadata": {},
   "outputs": [
    {
     "name": "stdout",
     "output_type": "stream",
     "text": [
      "middle\n"
     ]
    }
   ],
   "source": [
    "if 1 == 2:\n",
    "    print('first')\n",
    "elif 3 == 3:\n",
    "    print('middle')\n",
    "else:\n",
    "    print('Last')"
   ]
  },
  {
   "cell_type": "markdown",
   "metadata": {},
   "source": [
    "#### For and While loops"
   ]
  },
  {
   "cell_type": "markdown",
   "metadata": {},
   "source": [
    "for loops allow you to iterate through a sequence"
   ]
  },
  {
   "cell_type": "markdown",
   "metadata": {},
   "source": [
    "while loops allow you to perfom something until a condition is met\n",
    "\n",
    "usually you use an iterating value of 'i' or whatever. \n",
    "\n",
    "reset the kernel if you have a infilite loop"
   ]
  },
  {
   "cell_type": "markdown",
   "metadata": {},
   "source": [
    "#### Range"
   ]
  },
  {
   "cell_type": "markdown",
   "metadata": {},
   "source": [
    "use range (0,5) to make alist from 0-4. start at 0 and have 5 elements\n",
    "\n",
    "can use list() to convert it to a list"
   ]
  },
  {
   "cell_type": "markdown",
   "metadata": {},
   "source": [
    "#### List comprehension"
   ]
  },
  {
   "cell_type": "markdown",
   "metadata": {},
   "source": [
    "quick way to make a for loop style of things. Saves typing.\n",
    "\n",
    "instead of "
   ]
  },
  {
   "cell_type": "code",
   "execution_count": 5,
   "metadata": {},
   "outputs": [
    {
     "name": "stdout",
     "output_type": "stream",
     "text": [
      "[1, 4, 9, 16]\n"
     ]
    }
   ],
   "source": [
    "x = [1,2,3,4]\n",
    "out = []\n",
    "for item in x:\n",
    "    out.append(item**2)\n",
    "print(out)"
   ]
  },
  {
   "cell_type": "markdown",
   "metadata": {},
   "source": [
    "can just use"
   ]
  },
  {
   "cell_type": "code",
   "execution_count": 6,
   "metadata": {},
   "outputs": [
    {
     "data": {
      "text/plain": [
       "[1, 4, 9, 16]"
      ]
     },
     "execution_count": 6,
     "metadata": {},
     "output_type": "execute_result"
    }
   ],
   "source": [
    "[item**2 for item in x]"
   ]
  },
  {
   "cell_type": "markdown",
   "metadata": {},
   "source": [
    "#### Functions"
   ]
  },
  {
   "cell_type": "markdown",
   "metadata": {},
   "source": [
    "use def to define a function"
   ]
  },
  {
   "cell_type": "markdown",
   "metadata": {},
   "source": [
    "use = to have a default value\n",
    "\n",
    "calling it with parenthese to actually call it\n",
    "\n",
    "use return to have the cunction return a number rather than printing it\n",
    "\n",
    "can add documentation string using triple quots \"\"\"\" which you can use to have documentation\n",
    "\n",
    "at the end of a function you can shift+tab to see the docstring of a function."
   ]
  },
  {
   "cell_type": "markdown",
   "metadata": {},
   "source": [
    "#### Lambda function"
   ]
  },
  {
   "cell_type": "markdown",
   "metadata": {},
   "source": [
    "map()\n",
    "\n",
    "pass in a function, and the sequence you want to apply the function to\n",
    "\n",
    "where you don't want to define an entire function formally."
   ]
  },
  {
   "cell_type": "code",
   "execution_count": 7,
   "metadata": {},
   "outputs": [],
   "source": [
    "seq = [1,2,3,4,5]"
   ]
  },
  {
   "cell_type": "code",
   "execution_count": 8,
   "metadata": {},
   "outputs": [
    {
     "data": {
      "text/plain": [
       "[3, 6, 9, 12, 15]"
      ]
     },
     "execution_count": 8,
     "metadata": {},
     "output_type": "execute_result"
    }
   ],
   "source": [
    "list(map(lambda num: num*3,seq))"
   ]
  },
  {
   "cell_type": "markdown",
   "metadata": {},
   "source": [
    "Filter - can use the lambda that has a conditional operation (returns true or false)"
   ]
  },
  {
   "cell_type": "code",
   "execution_count": 10,
   "metadata": {},
   "outputs": [
    {
     "data": {
      "text/plain": [
       "[2, 4]"
      ]
     },
     "execution_count": 10,
     "metadata": {},
     "output_type": "execute_result"
    }
   ],
   "source": [
    "list(filter(lambda num:num%2==0,seq))"
   ]
  },
  {
   "cell_type": "markdown",
   "metadata": {},
   "source": [
    "#### Methods"
   ]
  },
  {
   "cell_type": "markdown",
   "metadata": {},
   "source": [
    ".lower(),\n",
    "\n",
    ".upper() makes uppercase\n",
    "\n",
    ".split() (splits by whitespace) or .split('#') to say what you are splitting on\n",
    "\n",
    "hit tab to see what methods are available\n",
    "\n",
    ".pop() to pop off last, or .pop(0) to pop out a specific part\n",
    "\n",
    ".append('x') to append to a list"
   ]
  },
  {
   "cell_type": "markdown",
   "metadata": {},
   "source": [
    "'in' T'F on if something is in a list"
   ]
  },
  {
   "cell_type": "markdown",
   "metadata": {},
   "source": [
    "# NumPy"
   ]
  },
  {
   "cell_type": "markdown",
   "metadata": {},
   "source": [
    "## Array\n",
    "\n",
    "np.array() to cast a list or list of lists to an array\n",
    "\n",
    "np.arange() makes an array from the specified range\n",
    "\n",
    "np.zeros() - takes sinle digit or tuple e.g np.zeros((2,3))\n",
    "\n",
    "np.ones() for ones\n",
    "\n",
    "np.linspace(start, stop, number of points)\n",
    "\n",
    "np.eye() - identity matrix (one input, number of rows/columns)\n",
    "\n",
    "np.random.rand() - random from uniform dis from 0-1. takes 1 or 2 inputs. 2 gives you a 2D matrix\n",
    "\n",
    "np.random.randn() - random from a normal distribution centered around 0\n",
    "\n",
    "np.random.randint(low, high, size) - random uniform from low to high\n",
    "\n",
    "\n",
    ".reshape - reshapes an array into number of rows and columns that you want. Error if you can't fill it up properly\n",
    "\n",
    ".max() - max value in array\n",
    "\n",
    ".argmax() - location of max value\n",
    "\n",
    ".min(), .argmin()\n",
    "\n",
    ".shape() - tells you the shape of the array\n",
    "\n",
    ".dtype() - tells you data type in array\n",
    "\n",
    "\n"
   ]
  },
  {
   "cell_type": "markdown",
   "metadata": {},
   "source": [
    "## Indexing and Selection\n",
    "\n",
    "Can use slice notation to select values in an array e.g. arr[2] or arr[2:4]\n",
    "\n",
    "Note: numpy broadcasts, so that when you create a sub array and make any changes to it, that happens to the original array. The sub copy is basically just a view of the original array. Have to use .copy() to make a copy\n",
    "\n",
    "Indexing on a 2D array -  use arr[1][2] or arr[1,2] to get individual elements. arr[0] would give first row. Can use colons for slice notation to grab things.\n",
    "\n",
    "#### Conditional Selections\n"
   ]
  },
  {
   "cell_type": "markdown",
   "metadata": {},
   "source": [
    "you can have a contition to an array e.g. arr > 5 that would return an array of booleans. You could then feed this into the slice notation to pick out the desired elements\n",
    "\n",
    "Easier to just call it in one step, arr[arr>5] gives you that array\n",
    "\n"
   ]
  },
  {
   "cell_type": "markdown",
   "metadata": {},
   "source": [
    "## NumPy operations\n",
    "\n",
    "array with array notation\n",
    "\n",
    "+ - * to add, subtract and multiply arrays\n",
    "\n",
    "array with scalars - +-\\* \\** \\/ to do by element by element basis."
   ]
  },
  {
   "cell_type": "markdown",
   "metadata": {},
   "source": [
    "#### common mathematical operations - ufunc (universal functions)\n",
    "\n",
    "[universal array functions](http://docs.scipy.org/doc/numpy/reference/ufuncs.html)\n",
    "\n",
    "np.sqrt()\n",
    "\n",
    "np.exp()\n",
    "\n",
    "np.max()\n",
    "\n",
    "np.sin(), np.cos() etc.\n"
   ]
  },
  {
   "cell_type": "code",
   "execution_count": null,
   "metadata": {},
   "outputs": [],
   "source": []
  }
 ],
 "metadata": {
  "kernelspec": {
   "display_name": "Python 3",
   "language": "python",
   "name": "python3"
  },
  "language_info": {
   "codemirror_mode": {
    "name": "ipython",
    "version": 3
   },
   "file_extension": ".py",
   "mimetype": "text/x-python",
   "name": "python",
   "nbconvert_exporter": "python",
   "pygments_lexer": "ipython3",
   "version": "3.7.3"
  }
 },
 "nbformat": 4,
 "nbformat_minor": 2
}
